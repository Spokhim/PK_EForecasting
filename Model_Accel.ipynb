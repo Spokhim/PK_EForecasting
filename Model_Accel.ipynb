{
 "cells": [
  {
   "attachments": {},
   "cell_type": "markdown",
   "metadata": {},
   "source": [
    "# ML Pipeline for Accelerometer Data\n",
    "\n",
    "First just dabble with accelerometer data.\n",
    "\n",
    "We will use it for seizure detection, and then seizure prediction. \n",
    "\n",
    "Using autoML approach plus feature set (either TSFresh or pycatch22)"
   ]
  },
  {
   "cell_type": "code",
   "execution_count": 1,
   "metadata": {},
   "outputs": [],
   "source": [
    "# Import Packages\n",
    "import sys\n",
    "import os\n",
    "import matplotlib.pyplot as plt\n",
    "import numpy as np\n",
    "import pandas as pd\n",
    "from scipy import io \n",
    "import re\n",
    "from scipy.fft import fft, fftfreq\n",
    "from pathlib import Path\n",
    "\n",
    "import pycatch22"
   ]
  },
  {
   "cell_type": "code",
   "execution_count": 2,
   "metadata": {},
   "outputs": [],
   "source": [
    "# First load one of the Pickle Files of the Patient\n",
    "\n",
    "file_path = Path('/Users/pokhims/Documents/Coding/PK_EForecasting/Ignore/Output/1110_model_data_0.pkl')\n",
    "\n",
    "data = pd.read_pickle(file_path)"
   ]
  },
  {
   "cell_type": "code",
   "execution_count": 3,
   "metadata": {},
   "outputs": [
    {
     "data": {
      "text/plain": [
       "PosixPath('/Users/pokhims/Documents/Coding/PK_EForecasting/Ignore/Output/1110_model_data_0.pkl')"
      ]
     },
     "execution_count": 3,
     "metadata": {},
     "output_type": "execute_result"
    }
   ],
   "source": [
    "file_path"
   ]
  },
  {
   "cell_type": "code",
   "execution_count": 4,
   "metadata": {},
   "outputs": [
    {
     "data": {
      "text/html": [
       "<div>\n",
       "<style scoped>\n",
       "    .dataframe tbody tr th:only-of-type {\n",
       "        vertical-align: middle;\n",
       "    }\n",
       "\n",
       "    .dataframe tbody tr th {\n",
       "        vertical-align: top;\n",
       "    }\n",
       "\n",
       "    .dataframe thead th {\n",
       "        text-align: right;\n",
       "    }\n",
       "</style>\n",
       "<table border=\"1\" class=\"dataframe\">\n",
       "  <thead>\n",
       "    <tr style=\"text-align: right;\">\n",
       "      <th></th>\n",
       "      <th>time_of_day</th>\n",
       "      <th>acc_mag_fft</th>\n",
       "      <th>bvp_fft</th>\n",
       "      <th>eda_fft</th>\n",
       "      <th>hr_fft</th>\n",
       "      <th>temp_fft</th>\n",
       "      <th>acc_quality</th>\n",
       "      <th>bvp_quality</th>\n",
       "      <th>eda_quality</th>\n",
       "      <th>seizure_ind</th>\n",
       "      <th>label</th>\n",
       "    </tr>\n",
       "  </thead>\n",
       "  <tbody>\n",
       "    <tr>\n",
       "      <th>0</th>\n",
       "      <td>23</td>\n",
       "      <td>NaN</td>\n",
       "      <td>NaN</td>\n",
       "      <td>NaN</td>\n",
       "      <td>NaN</td>\n",
       "      <td>NaN</td>\n",
       "      <td>NaN</td>\n",
       "      <td>1</td>\n",
       "      <td>1</td>\n",
       "      <td>0.0</td>\n",
       "      <td>0.0</td>\n",
       "    </tr>\n",
       "    <tr>\n",
       "      <th>1</th>\n",
       "      <td>23</td>\n",
       "      <td>NaN</td>\n",
       "      <td>NaN</td>\n",
       "      <td>NaN</td>\n",
       "      <td>NaN</td>\n",
       "      <td>NaN</td>\n",
       "      <td>NaN</td>\n",
       "      <td>1</td>\n",
       "      <td>1</td>\n",
       "      <td>0.0</td>\n",
       "      <td>0.0</td>\n",
       "    </tr>\n",
       "    <tr>\n",
       "      <th>2</th>\n",
       "      <td>23</td>\n",
       "      <td>NaN</td>\n",
       "      <td>NaN</td>\n",
       "      <td>NaN</td>\n",
       "      <td>NaN</td>\n",
       "      <td>NaN</td>\n",
       "      <td>NaN</td>\n",
       "      <td>1</td>\n",
       "      <td>1</td>\n",
       "      <td>0.0</td>\n",
       "      <td>0.0</td>\n",
       "    </tr>\n",
       "    <tr>\n",
       "      <th>3</th>\n",
       "      <td>23</td>\n",
       "      <td>NaN</td>\n",
       "      <td>NaN</td>\n",
       "      <td>NaN</td>\n",
       "      <td>NaN</td>\n",
       "      <td>NaN</td>\n",
       "      <td>NaN</td>\n",
       "      <td>1</td>\n",
       "      <td>1</td>\n",
       "      <td>0.0</td>\n",
       "      <td>0.0</td>\n",
       "    </tr>\n",
       "    <tr>\n",
       "      <th>4</th>\n",
       "      <td>23</td>\n",
       "      <td>NaN</td>\n",
       "      <td>NaN</td>\n",
       "      <td>NaN</td>\n",
       "      <td>NaN</td>\n",
       "      <td>NaN</td>\n",
       "      <td>NaN</td>\n",
       "      <td>1</td>\n",
       "      <td>1</td>\n",
       "      <td>0.0</td>\n",
       "      <td>0.0</td>\n",
       "    </tr>\n",
       "    <tr>\n",
       "      <th>...</th>\n",
       "      <td>...</td>\n",
       "      <td>...</td>\n",
       "      <td>...</td>\n",
       "      <td>...</td>\n",
       "      <td>...</td>\n",
       "      <td>...</td>\n",
       "      <td>...</td>\n",
       "      <td>...</td>\n",
       "      <td>...</td>\n",
       "      <td>...</td>\n",
       "      <td>...</td>\n",
       "    </tr>\n",
       "    <tr>\n",
       "      <th>76799995</th>\n",
       "      <td>4</td>\n",
       "      <td>0.037673</td>\n",
       "      <td>0.004349</td>\n",
       "      <td>0.111067</td>\n",
       "      <td>0.025424</td>\n",
       "      <td>0.110821</td>\n",
       "      <td>2.232677</td>\n",
       "      <td>1</td>\n",
       "      <td>1</td>\n",
       "      <td>0.0</td>\n",
       "      <td>0.0</td>\n",
       "    </tr>\n",
       "    <tr>\n",
       "      <th>76799996</th>\n",
       "      <td>4</td>\n",
       "      <td>0.050315</td>\n",
       "      <td>0.005017</td>\n",
       "      <td>0.171193</td>\n",
       "      <td>0.030320</td>\n",
       "      <td>0.213742</td>\n",
       "      <td>2.232677</td>\n",
       "      <td>1</td>\n",
       "      <td>1</td>\n",
       "      <td>0.0</td>\n",
       "      <td>0.0</td>\n",
       "    </tr>\n",
       "    <tr>\n",
       "      <th>76799997</th>\n",
       "      <td>4</td>\n",
       "      <td>0.040327</td>\n",
       "      <td>0.001360</td>\n",
       "      <td>0.177507</td>\n",
       "      <td>0.053572</td>\n",
       "      <td>0.305417</td>\n",
       "      <td>2.232677</td>\n",
       "      <td>1</td>\n",
       "      <td>1</td>\n",
       "      <td>0.0</td>\n",
       "      <td>0.0</td>\n",
       "    </tr>\n",
       "    <tr>\n",
       "      <th>76799998</th>\n",
       "      <td>4</td>\n",
       "      <td>0.056146</td>\n",
       "      <td>0.000919</td>\n",
       "      <td>0.178095</td>\n",
       "      <td>0.063388</td>\n",
       "      <td>0.393353</td>\n",
       "      <td>2.232677</td>\n",
       "      <td>1</td>\n",
       "      <td>1</td>\n",
       "      <td>0.0</td>\n",
       "      <td>0.0</td>\n",
       "    </tr>\n",
       "    <tr>\n",
       "      <th>76799999</th>\n",
       "      <td>4</td>\n",
       "      <td>0.049137</td>\n",
       "      <td>0.001283</td>\n",
       "      <td>0.628415</td>\n",
       "      <td>0.152390</td>\n",
       "      <td>0.522868</td>\n",
       "      <td>2.232677</td>\n",
       "      <td>1</td>\n",
       "      <td>1</td>\n",
       "      <td>0.0</td>\n",
       "      <td>0.0</td>\n",
       "    </tr>\n",
       "  </tbody>\n",
       "</table>\n",
       "<p>76800000 rows × 11 columns</p>\n",
       "</div>"
      ],
      "text/plain": [
       "          time_of_day  acc_mag_fft   bvp_fft   eda_fft    hr_fft  temp_fft  \\\n",
       "0                  23          NaN       NaN       NaN       NaN       NaN   \n",
       "1                  23          NaN       NaN       NaN       NaN       NaN   \n",
       "2                  23          NaN       NaN       NaN       NaN       NaN   \n",
       "3                  23          NaN       NaN       NaN       NaN       NaN   \n",
       "4                  23          NaN       NaN       NaN       NaN       NaN   \n",
       "...               ...          ...       ...       ...       ...       ...   \n",
       "76799995            4     0.037673  0.004349  0.111067  0.025424  0.110821   \n",
       "76799996            4     0.050315  0.005017  0.171193  0.030320  0.213742   \n",
       "76799997            4     0.040327  0.001360  0.177507  0.053572  0.305417   \n",
       "76799998            4     0.056146  0.000919  0.178095  0.063388  0.393353   \n",
       "76799999            4     0.049137  0.001283  0.628415  0.152390  0.522868   \n",
       "\n",
       "          acc_quality  bvp_quality  eda_quality  seizure_ind  label  \n",
       "0                 NaN            1            1          0.0    0.0  \n",
       "1                 NaN            1            1          0.0    0.0  \n",
       "2                 NaN            1            1          0.0    0.0  \n",
       "3                 NaN            1            1          0.0    0.0  \n",
       "4                 NaN            1            1          0.0    0.0  \n",
       "...               ...          ...          ...          ...    ...  \n",
       "76799995     2.232677            1            1          0.0    0.0  \n",
       "76799996     2.232677            1            1          0.0    0.0  \n",
       "76799997     2.232677            1            1          0.0    0.0  \n",
       "76799998     2.232677            1            1          0.0    0.0  \n",
       "76799999     2.232677            1            1          0.0    0.0  \n",
       "\n",
       "[76800000 rows x 11 columns]"
      ]
     },
     "execution_count": 4,
     "metadata": {},
     "output_type": "execute_result"
    }
   ],
   "source": [
    "data"
   ]
  },
  {
   "cell_type": "code",
   "execution_count": 5,
   "metadata": {},
   "outputs": [],
   "source": [
    "#data[\"acc_mag_fft\"].plot()"
   ]
  },
  {
   "cell_type": "code",
   "execution_count": 6,
   "metadata": {},
   "outputs": [
    {
     "data": {
      "text/plain": [
       "4.680402350167861"
      ]
     },
     "execution_count": 6,
     "metadata": {},
     "output_type": "execute_result"
    }
   ],
   "source": [
    "data[\"acc_mag_fft\"].max()"
   ]
  },
  {
   "cell_type": "code",
   "execution_count": 7,
   "metadata": {},
   "outputs": [
    {
     "data": {
      "text/plain": [
       "76800000"
      ]
     },
     "execution_count": 7,
     "metadata": {},
     "output_type": "execute_result"
    }
   ],
   "source": [
    "data.shape[0]"
   ]
  },
  {
   "cell_type": "code",
   "execution_count": 10,
   "metadata": {},
   "outputs": [],
   "source": [
    "def window_catch22(data,window_size=10,f_s=128):\n",
    "    \"\"\"\n",
    "    Runs catch-22 on a given input.  The input is presumably an entire 10min file, but is certainly a pandas data frame.\n",
    "\n",
    "    f_s = 128Hz by default (as per https://eval.ai/web/challenges/challenge-page/1693/overview)\n",
    "    window_size = 10s by default.  \n",
    "    \"\"\"\n",
    "\n",
    "    # Figure out how many elements goes into each window.\n",
    "    number = int(window_size*f_s)\n",
    "\n",
    "    # Length of the data_file\n",
    "    file_len = data.shape[0]\n",
    "\n",
    "    # Initialize list to save data per window\n",
    "    li = []\n",
    "\n",
    "    # Loop through the data file, creating windows of data and running Catch22.\n",
    "    for k in np.arange(np.floor(file_len/number)):\n",
    "\n",
    "        # Create or specify the window of data.\n",
    "        # Just in case, maybe the 10min data file is completely empty or something, we need to do a try-except to move on.\n",
    "        try:\n",
    "            # Specify window\n",
    "            window = data.iloc[int(k*number):int((k+1)*number),:]\n",
    "        except:\n",
    "            continue\n",
    "\n",
    "        # Basic checks which might throw errors.  If they do, we just skip that window.\n",
    "        # If array is empty skip it.\n",
    "        if window.size==0:\n",
    "            continue\n",
    "        # If array has Nans skip it.  - This is not ideal, but just want to get something going quickly. \n",
    "        elif np.isnan(window).any().any():\n",
    "            continue\n",
    "\n",
    "        # For each column of dataframe apply catch22\n",
    "        li1 = []\n",
    "        for i in np.arange(data.shape[1]):\n",
    "            features = pycatch22.catch22_all(window[i], catch24=True, )\n",
    "            li1.append(features[\"values\"])  \n",
    "\n",
    "        # Turn this list into an array \n",
    "        li1 = np.array(li1)\n",
    "        # Add to list saving data per window\n",
    "        li.append(li1)\n",
    "\n",
    "    # Turn the list into a 3D array\n",
    "    frame = np.array(li) \n",
    "    \n",
    "    return frame   "
   ]
  },
  {
   "cell_type": "code",
   "execution_count": 11,
   "metadata": {},
   "outputs": [
    {
     "ename": "KeyError",
     "evalue": "0",
     "output_type": "error",
     "traceback": [
      "\u001b[0;31m---------------------------------------------------------------------------\u001b[0m",
      "\u001b[0;31mKeyError\u001b[0m                                  Traceback (most recent call last)",
      "File \u001b[0;32m/Library/Frameworks/Python.framework/Versions/3.10/lib/python3.10/site-packages/pandas/core/indexes/base.py:3621\u001b[0m, in \u001b[0;36mIndex.get_loc\u001b[0;34m(self, key, method, tolerance)\u001b[0m\n\u001b[1;32m   3620\u001b[0m \u001b[39mtry\u001b[39;00m:\n\u001b[0;32m-> 3621\u001b[0m     \u001b[39mreturn\u001b[39;00m \u001b[39mself\u001b[39;49m\u001b[39m.\u001b[39;49m_engine\u001b[39m.\u001b[39;49mget_loc(casted_key)\n\u001b[1;32m   3622\u001b[0m \u001b[39mexcept\u001b[39;00m \u001b[39mKeyError\u001b[39;00m \u001b[39mas\u001b[39;00m err:\n",
      "File \u001b[0;32m/Library/Frameworks/Python.framework/Versions/3.10/lib/python3.10/site-packages/pandas/_libs/index.pyx:136\u001b[0m, in \u001b[0;36mpandas._libs.index.IndexEngine.get_loc\u001b[0;34m()\u001b[0m\n",
      "File \u001b[0;32m/Library/Frameworks/Python.framework/Versions/3.10/lib/python3.10/site-packages/pandas/_libs/index.pyx:163\u001b[0m, in \u001b[0;36mpandas._libs.index.IndexEngine.get_loc\u001b[0;34m()\u001b[0m\n",
      "File \u001b[0;32mpandas/_libs/hashtable_class_helper.pxi:5198\u001b[0m, in \u001b[0;36mpandas._libs.hashtable.PyObjectHashTable.get_item\u001b[0;34m()\u001b[0m\n",
      "File \u001b[0;32mpandas/_libs/hashtable_class_helper.pxi:5206\u001b[0m, in \u001b[0;36mpandas._libs.hashtable.PyObjectHashTable.get_item\u001b[0;34m()\u001b[0m\n",
      "\u001b[0;31mKeyError\u001b[0m: 0",
      "\nThe above exception was the direct cause of the following exception:\n",
      "\u001b[0;31mKeyError\u001b[0m                                  Traceback (most recent call last)",
      "\u001b[1;32m/Users/pokhims/Documents/Coding/PK_EForecasting/Model_Accel.ipynb Cell 10\u001b[0m in \u001b[0;36m<cell line: 1>\u001b[0;34m()\u001b[0m\n\u001b[0;32m----> <a href='vscode-notebook-cell:/Users/pokhims/Documents/Coding/PK_EForecasting/Model_Accel.ipynb#X12sZmlsZQ%3D%3D?line=0'>1</a>\u001b[0m window_catch22(data)\n",
      "\u001b[1;32m/Users/pokhims/Documents/Coding/PK_EForecasting/Model_Accel.ipynb Cell 10\u001b[0m in \u001b[0;36mwindow_catch22\u001b[0;34m(data, window_size, f_s)\u001b[0m\n\u001b[1;32m     <a href='vscode-notebook-cell:/Users/pokhims/Documents/Coding/PK_EForecasting/Model_Accel.ipynb#X12sZmlsZQ%3D%3D?line=37'>38</a>\u001b[0m li1 \u001b[39m=\u001b[39m []\n\u001b[1;32m     <a href='vscode-notebook-cell:/Users/pokhims/Documents/Coding/PK_EForecasting/Model_Accel.ipynb#X12sZmlsZQ%3D%3D?line=38'>39</a>\u001b[0m \u001b[39mfor\u001b[39;00m i \u001b[39min\u001b[39;00m np\u001b[39m.\u001b[39marange(data\u001b[39m.\u001b[39mshape[\u001b[39m1\u001b[39m]):\n\u001b[0;32m---> <a href='vscode-notebook-cell:/Users/pokhims/Documents/Coding/PK_EForecasting/Model_Accel.ipynb#X12sZmlsZQ%3D%3D?line=39'>40</a>\u001b[0m     features \u001b[39m=\u001b[39m pycatch22\u001b[39m.\u001b[39mcatch22_all(window[i], catch24\u001b[39m=\u001b[39m\u001b[39mTrue\u001b[39;00m, )\n\u001b[1;32m     <a href='vscode-notebook-cell:/Users/pokhims/Documents/Coding/PK_EForecasting/Model_Accel.ipynb#X12sZmlsZQ%3D%3D?line=40'>41</a>\u001b[0m     li1\u001b[39m.\u001b[39mappend(features[\u001b[39m\"\u001b[39m\u001b[39mvalues\u001b[39m\u001b[39m\"\u001b[39m])  \n\u001b[1;32m     <a href='vscode-notebook-cell:/Users/pokhims/Documents/Coding/PK_EForecasting/Model_Accel.ipynb#X12sZmlsZQ%3D%3D?line=42'>43</a>\u001b[0m \u001b[39m# Turn this list into an array \u001b[39;00m\n",
      "File \u001b[0;32m/Library/Frameworks/Python.framework/Versions/3.10/lib/python3.10/site-packages/pandas/core/frame.py:3505\u001b[0m, in \u001b[0;36mDataFrame.__getitem__\u001b[0;34m(self, key)\u001b[0m\n\u001b[1;32m   3503\u001b[0m \u001b[39mif\u001b[39;00m \u001b[39mself\u001b[39m\u001b[39m.\u001b[39mcolumns\u001b[39m.\u001b[39mnlevels \u001b[39m>\u001b[39m \u001b[39m1\u001b[39m:\n\u001b[1;32m   3504\u001b[0m     \u001b[39mreturn\u001b[39;00m \u001b[39mself\u001b[39m\u001b[39m.\u001b[39m_getitem_multilevel(key)\n\u001b[0;32m-> 3505\u001b[0m indexer \u001b[39m=\u001b[39m \u001b[39mself\u001b[39;49m\u001b[39m.\u001b[39;49mcolumns\u001b[39m.\u001b[39;49mget_loc(key)\n\u001b[1;32m   3506\u001b[0m \u001b[39mif\u001b[39;00m is_integer(indexer):\n\u001b[1;32m   3507\u001b[0m     indexer \u001b[39m=\u001b[39m [indexer]\n",
      "File \u001b[0;32m/Library/Frameworks/Python.framework/Versions/3.10/lib/python3.10/site-packages/pandas/core/indexes/base.py:3623\u001b[0m, in \u001b[0;36mIndex.get_loc\u001b[0;34m(self, key, method, tolerance)\u001b[0m\n\u001b[1;32m   3621\u001b[0m     \u001b[39mreturn\u001b[39;00m \u001b[39mself\u001b[39m\u001b[39m.\u001b[39m_engine\u001b[39m.\u001b[39mget_loc(casted_key)\n\u001b[1;32m   3622\u001b[0m \u001b[39mexcept\u001b[39;00m \u001b[39mKeyError\u001b[39;00m \u001b[39mas\u001b[39;00m err:\n\u001b[0;32m-> 3623\u001b[0m     \u001b[39mraise\u001b[39;00m \u001b[39mKeyError\u001b[39;00m(key) \u001b[39mfrom\u001b[39;00m \u001b[39merr\u001b[39;00m\n\u001b[1;32m   3624\u001b[0m \u001b[39mexcept\u001b[39;00m \u001b[39mTypeError\u001b[39;00m:\n\u001b[1;32m   3625\u001b[0m     \u001b[39m# If we have a listlike key, _check_indexing_error will raise\u001b[39;00m\n\u001b[1;32m   3626\u001b[0m     \u001b[39m#  InvalidIndexError. Otherwise we fall through and re-raise\u001b[39;00m\n\u001b[1;32m   3627\u001b[0m     \u001b[39m#  the TypeError.\u001b[39;00m\n\u001b[1;32m   3628\u001b[0m     \u001b[39mself\u001b[39m\u001b[39m.\u001b[39m_check_indexing_error(key)\n",
      "\u001b[0;31mKeyError\u001b[0m: 0"
     ]
    }
   ],
   "source": [
    "window_catch22(data)"
   ]
  },
  {
   "cell_type": "code",
   "execution_count": 13,
   "metadata": {},
   "outputs": [
    {
     "ename": "KeyError",
     "evalue": "0",
     "output_type": "error",
     "traceback": [
      "\u001b[0;31m---------------------------------------------------------------------------\u001b[0m",
      "\u001b[0;31mKeyError\u001b[0m                                  Traceback (most recent call last)",
      "File \u001b[0;32m/Library/Frameworks/Python.framework/Versions/3.10/lib/python3.10/site-packages/pandas/core/indexes/base.py:3621\u001b[0m, in \u001b[0;36mIndex.get_loc\u001b[0;34m(self, key, method, tolerance)\u001b[0m\n\u001b[1;32m   3620\u001b[0m \u001b[39mtry\u001b[39;00m:\n\u001b[0;32m-> 3621\u001b[0m     \u001b[39mreturn\u001b[39;00m \u001b[39mself\u001b[39;49m\u001b[39m.\u001b[39;49m_engine\u001b[39m.\u001b[39;49mget_loc(casted_key)\n\u001b[1;32m   3622\u001b[0m \u001b[39mexcept\u001b[39;00m \u001b[39mKeyError\u001b[39;00m \u001b[39mas\u001b[39;00m err:\n",
      "File \u001b[0;32m/Library/Frameworks/Python.framework/Versions/3.10/lib/python3.10/site-packages/pandas/_libs/index.pyx:136\u001b[0m, in \u001b[0;36mpandas._libs.index.IndexEngine.get_loc\u001b[0;34m()\u001b[0m\n",
      "File \u001b[0;32m/Library/Frameworks/Python.framework/Versions/3.10/lib/python3.10/site-packages/pandas/_libs/index.pyx:163\u001b[0m, in \u001b[0;36mpandas._libs.index.IndexEngine.get_loc\u001b[0;34m()\u001b[0m\n",
      "File \u001b[0;32mpandas/_libs/hashtable_class_helper.pxi:5198\u001b[0m, in \u001b[0;36mpandas._libs.hashtable.PyObjectHashTable.get_item\u001b[0;34m()\u001b[0m\n",
      "File \u001b[0;32mpandas/_libs/hashtable_class_helper.pxi:5206\u001b[0m, in \u001b[0;36mpandas._libs.hashtable.PyObjectHashTable.get_item\u001b[0;34m()\u001b[0m\n",
      "\u001b[0;31mKeyError\u001b[0m: 0",
      "\nThe above exception was the direct cause of the following exception:\n",
      "\u001b[0;31mKeyError\u001b[0m                                  Traceback (most recent call last)",
      "\u001b[1;32m/Users/pokhims/Documents/Coding/PK_EForecasting/Model_Accel.ipynb Cell 11\u001b[0m in \u001b[0;36m<cell line: 14>\u001b[0;34m()\u001b[0m\n\u001b[1;32m     <a href='vscode-notebook-cell:/Users/pokhims/Documents/Coding/PK_EForecasting/Model_Accel.ipynb#X14sZmlsZQ%3D%3D?line=32'>33</a>\u001b[0m li1 \u001b[39m=\u001b[39m []\n\u001b[1;32m     <a href='vscode-notebook-cell:/Users/pokhims/Documents/Coding/PK_EForecasting/Model_Accel.ipynb#X14sZmlsZQ%3D%3D?line=33'>34</a>\u001b[0m \u001b[39mfor\u001b[39;00m i \u001b[39min\u001b[39;00m np\u001b[39m.\u001b[39marange(data\u001b[39m.\u001b[39mshape[\u001b[39m1\u001b[39m]):\n\u001b[0;32m---> <a href='vscode-notebook-cell:/Users/pokhims/Documents/Coding/PK_EForecasting/Model_Accel.ipynb#X14sZmlsZQ%3D%3D?line=34'>35</a>\u001b[0m     features \u001b[39m=\u001b[39m pycatch22\u001b[39m.\u001b[39mcatch22_all(window[i], catch24\u001b[39m=\u001b[39m\u001b[39mTrue\u001b[39;00m, )\n\u001b[1;32m     <a href='vscode-notebook-cell:/Users/pokhims/Documents/Coding/PK_EForecasting/Model_Accel.ipynb#X14sZmlsZQ%3D%3D?line=35'>36</a>\u001b[0m     li1\u001b[39m.\u001b[39mappend(features[\u001b[39m\"\u001b[39m\u001b[39mvalues\u001b[39m\u001b[39m\"\u001b[39m])  \n\u001b[1;32m     <a href='vscode-notebook-cell:/Users/pokhims/Documents/Coding/PK_EForecasting/Model_Accel.ipynb#X14sZmlsZQ%3D%3D?line=37'>38</a>\u001b[0m \u001b[39m# Turn this list into an array \u001b[39;00m\n",
      "File \u001b[0;32m/Library/Frameworks/Python.framework/Versions/3.10/lib/python3.10/site-packages/pandas/core/frame.py:3505\u001b[0m, in \u001b[0;36mDataFrame.__getitem__\u001b[0;34m(self, key)\u001b[0m\n\u001b[1;32m   3503\u001b[0m \u001b[39mif\u001b[39;00m \u001b[39mself\u001b[39m\u001b[39m.\u001b[39mcolumns\u001b[39m.\u001b[39mnlevels \u001b[39m>\u001b[39m \u001b[39m1\u001b[39m:\n\u001b[1;32m   3504\u001b[0m     \u001b[39mreturn\u001b[39;00m \u001b[39mself\u001b[39m\u001b[39m.\u001b[39m_getitem_multilevel(key)\n\u001b[0;32m-> 3505\u001b[0m indexer \u001b[39m=\u001b[39m \u001b[39mself\u001b[39;49m\u001b[39m.\u001b[39;49mcolumns\u001b[39m.\u001b[39;49mget_loc(key)\n\u001b[1;32m   3506\u001b[0m \u001b[39mif\u001b[39;00m is_integer(indexer):\n\u001b[1;32m   3507\u001b[0m     indexer \u001b[39m=\u001b[39m [indexer]\n",
      "File \u001b[0;32m/Library/Frameworks/Python.framework/Versions/3.10/lib/python3.10/site-packages/pandas/core/indexes/base.py:3623\u001b[0m, in \u001b[0;36mIndex.get_loc\u001b[0;34m(self, key, method, tolerance)\u001b[0m\n\u001b[1;32m   3621\u001b[0m     \u001b[39mreturn\u001b[39;00m \u001b[39mself\u001b[39m\u001b[39m.\u001b[39m_engine\u001b[39m.\u001b[39mget_loc(casted_key)\n\u001b[1;32m   3622\u001b[0m \u001b[39mexcept\u001b[39;00m \u001b[39mKeyError\u001b[39;00m \u001b[39mas\u001b[39;00m err:\n\u001b[0;32m-> 3623\u001b[0m     \u001b[39mraise\u001b[39;00m \u001b[39mKeyError\u001b[39;00m(key) \u001b[39mfrom\u001b[39;00m \u001b[39merr\u001b[39;00m\n\u001b[1;32m   3624\u001b[0m \u001b[39mexcept\u001b[39;00m \u001b[39mTypeError\u001b[39;00m:\n\u001b[1;32m   3625\u001b[0m     \u001b[39m# If we have a listlike key, _check_indexing_error will raise\u001b[39;00m\n\u001b[1;32m   3626\u001b[0m     \u001b[39m#  InvalidIndexError. Otherwise we fall through and re-raise\u001b[39;00m\n\u001b[1;32m   3627\u001b[0m     \u001b[39m#  the TypeError.\u001b[39;00m\n\u001b[1;32m   3628\u001b[0m     \u001b[39mself\u001b[39m\u001b[39m.\u001b[39m_check_indexing_error(key)\n",
      "\u001b[0;31mKeyError\u001b[0m: 0"
     ]
    }
   ],
   "source": [
    "window_size = 10\n",
    "f_s = 128\n",
    "\n",
    "# Specify columns to use\n",
    "cols = [\"acc_mag_fft\",\"bvp_fft\",\"eda_fft\",\"temp_fft\",\"hr_fft\"]\n",
    "\n",
    "# Figure out how many elements goes into each window.\n",
    "number = int(window_size*f_s)\n",
    "\n",
    "# Length of the data_file\n",
    "file_len = data.shape[0]\n",
    "\n",
    "# Initialize list to save data per window\n",
    "li = []\n",
    "\n",
    "# Loop through the data file, creating windows of data and running Catch22.\n",
    "for k in np.arange(np.floor(file_len/number)):\n",
    "\n",
    "    # Create or specify the window of data.\n",
    "    # Just in case, maybe the 10min data file is completely empty or something, we need to do a try-except to move on.\n",
    "    try:\n",
    "        # Specify window\n",
    "        window = data.iloc[int(k*number):int((k+1)*number),:]\n",
    "    except:\n",
    "        continue\n",
    "\n",
    "    # Basic checks which might throw errors.  If they do, we just skip that window.\n",
    "    # If array is empty skip it.\n",
    "    if window.size==0:\n",
    "        continue\n",
    "    # If array has Nans skip it.  - This is not ideal, but just want to get something going quickly. \n",
    "    elif np.isnan(window).any().any():\n",
    "        continue\n",
    "\n",
    "    # For each column of dataframe apply catch22\n",
    "    li1 = []\n",
    "    for i in np.arange(data.shape[1]):\n",
    "        features = pycatch22.catch22_all(window[i], catch24=True, )\n",
    "        li1.append(features[\"values\"])  \n",
    "\n",
    "    # Turn this list into an array \n",
    "    li1 = np.array(li1)\n",
    "    # Add to list saving data per window\n",
    "    li.append(li1)\n",
    "\n",
    "# Turn the list into a 3D array\n",
    "frame = np.array(li) "
   ]
  },
  {
   "cell_type": "code",
   "execution_count": 17,
   "metadata": {},
   "outputs": [
    {
     "data": {
      "text/plain": [
       "38400    23\n",
       "38401    23\n",
       "38402    23\n",
       "38403    23\n",
       "38404    23\n",
       "         ..\n",
       "39675    23\n",
       "39676    23\n",
       "39677    23\n",
       "39678    23\n",
       "39679    23\n",
       "Name: time_of_day, Length: 1280, dtype: int64"
      ]
     },
     "execution_count": 17,
     "metadata": {},
     "output_type": "execute_result"
    }
   ],
   "source": [
    "window.iloc[:,0]"
   ]
  },
  {
   "cell_type": "code",
   "execution_count": null,
   "metadata": {},
   "outputs": [],
   "source": []
  }
 ],
 "metadata": {
  "kernelspec": {
   "display_name": "neuro",
   "language": "python",
   "name": "neuro"
  },
  "language_info": {
   "codemirror_mode": {
    "name": "ipython",
    "version": 3
   },
   "file_extension": ".py",
   "mimetype": "text/x-python",
   "name": "python",
   "nbconvert_exporter": "python",
   "pygments_lexer": "ipython3",
   "version": "3.10.5"
  },
  "orig_nbformat": 4,
  "vscode": {
   "interpreter": {
    "hash": "5c7b89af1651d0b8571dde13640ecdccf7d5a6204171d6ab33e7c296e100e08a"
   }
  }
 },
 "nbformat": 4,
 "nbformat_minor": 2
}
